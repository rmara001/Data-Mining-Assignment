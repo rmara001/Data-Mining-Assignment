{
  "nbformat": 4,
  "nbformat_minor": 0,
  "metadata": {
    "colab": {
      "provenance": [],
      "authorship_tag": "ABX9TyODZjTTC3DyGjRoBbrn4QdU"
    },
    "kernelspec": {
      "name": "python3",
      "display_name": "Python 3"
    },
    "language_info": {
      "name": "python"
    }
  },
  "cells": [
    {
      "cell_type": "markdown",
      "source": [
        "<h1></h1>\n",
        "<h1 align = center><b>Goldsmiths University of London</b><h1>\n",
        "<h4 align = center><b>Team Leader:</b> Rizza Marata (rmara001)<br><b>Student ID:</b> 33727980</b><h1>\n",
        "<h4 align = center><b>Team Member:</b> Reena Maratas (rmara002)<br><b>Student ID: </b>33727927</b><h1>\n",
        "\n",
        "***\n",
        "\n",
        "<h1 align = center><b>Data Mining Assignment - Part 2</b><h1>\n",
        "\n",
        "This task is based on a real credit risk data, and is to predict a response variable Y which represents a credit card default payment (Yes = 1, No = 0), using the 23 input variables as follows:\n",
        "\n",
        "X1: Amount of the given credit (NT dollar): it includes both the individual consumer credit and his/her family (supplementary) credit.\n",
        "X2: Gender (1 = male; 2 = female).\n",
        "X3: Education (1 = graduate school; 2 = university; 3 = high school; 4 = others).\n",
        "X4: Marital status (1 = married; 2 = single; 3 = others).\n",
        "X5: Age (year).\n",
        "X6 - X11: History of past payment. One tracked the past monthly payment records (from April to September, 2005) as follows: X6 = the repayment status in September, 2005; X7 = the repayment status in August, 2005; . . .;X11 = the repayment status in April, 2005. The measurement scale for the repayment status is: -1 = pay duly; 1 = payment delay for one month; 2 = payment delay for two months; . . .; 8 = payment delay for eight months; 9 = payment delay for nine months and above.\n",
        "X12-X17: Amount of bill statement (NT dollar). X12 = amount of bill statement in September, 2005; X13 = amount of bill statement in August, 2005; . . .; X17 = amount of bill statement in April, 2005.\n",
        "X18-X23: Amount of previous payment (NT dollar). X18 = amount paid in September, 2005; X19 = amount paid in August, 2005; . . .;X23 = amount paid in April, 2005.\n",
        "\n",
        "Two datasets are provided to you: a training dataset in the creditdefault_train.csv file, and a test dataset in the creditdefault_test.csv file.\n",
        "\n",
        "Using Python and any relevant libraries, you are required to build the best predictive model by tuning models using cross validation on the training dataset with each of the following algorithms discussed in this module: k-Nearest Neighbours, Decision Trees, Random Forest, Bagging, AdaBoost, and SVM. You may replace the AdaBoost algorithm with XGBoost algorithm, but do not use both of them. Out of the models tuned with all the above algorithms, select the best model and clearly justify your choice, and evaluate its performances on the test set."
      ],
      "metadata": {
        "id": "YQeVe7ftPsYM"
      }
    },
    {
      "cell_type": "markdown",
      "source": [
        "## **I. Import Libraries and Packages**"
      ],
      "metadata": {
        "id": "4bc9WDF9QJcP"
      }
    }
  ]
}